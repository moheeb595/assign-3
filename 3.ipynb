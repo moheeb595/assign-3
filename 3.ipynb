{
  "nbformat": 4,
  "nbformat_minor": 0,
  "metadata": {
    "colab": {
      "name": "Untitled3.ipynb",
      "provenance": [],
      "authorship_tag": "ABX9TyNDyg/PxmhW93bFjCvqzDbO"
    },
    "kernelspec": {
      "name": "python3",
      "display_name": "Python 3"
    }
  },
  "cells": [
    {
      "cell_type": "code",
      "metadata": {
        "id": "vNI7NDq3dDWb",
        "colab_type": "code",
        "colab": {}
      },
      "source": [
        "import numpy as np\n",
        "p=[[1, 0], [0, 1]]\n",
        "q=[[1, 2], [3, 4]]\n",
        "np.outer(p,q)"
      ],
      "execution_count": null,
      "outputs": []
    },
    {
      "cell_type": "markdown",
      "metadata": {
        "id": "Si2WXThFdJ71",
        "colab_type": "text"
      },
      "source": [
        "outer product of two vectors"
      ]
    }
  ]
}