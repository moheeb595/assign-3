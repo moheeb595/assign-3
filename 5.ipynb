{
  "nbformat": 4,
  "nbformat_minor": 0,
  "metadata": {
    "colab": {
      "name": "Untitled1.ipynb",
      "provenance": [],
      "authorship_tag": "ABX9TyOxXEYwW07FZqdVLEtGO8Wx",
      "include_colab_link": true
    },
    "kernelspec": {
      "name": "python3",
      "display_name": "Python 3"
    }
  },
  "cells": [
    {
      "cell_type": "markdown",
      "metadata": {
        "id": "view-in-github",
        "colab_type": "text"
      },
      "source": [
        "<a href=\"https://colab.research.google.com/github/moheeb595/assign-3/blob/master/5.ipynb\" target=\"_parent\"><img src=\"https://colab.research.google.com/assets/colab-badge.svg\" alt=\"Open In Colab\"/></a>"
      ]
    },
    {
      "cell_type": "code",
      "metadata": {
        "id": "qd7TWx3bbhcV",
        "colab_type": "code",
        "colab": {
          "base_uri": "https://localhost:8080/",
          "height": 102
        },
        "outputId": "36b7d495-fcb2-400c-ccac-2e3681a08c47"
      },
      "source": [
        "import numpy as np\n",
        "array1=np.array([[1,2,3,4,5],[4,5,6,7,8],[9,10,11,12,13],[14,15,16,17,18],[19,20,21,22,24]])\n",
        "array1"
      ],
      "execution_count": null,
      "outputs": [
        {
          "output_type": "execute_result",
          "data": {
            "text/plain": [
              "array([[ 1,  2,  3,  4,  5],\n",
              "       [ 4,  5,  6,  7,  8],\n",
              "       [ 9, 10, 11, 12, 13],\n",
              "       [14, 15, 16, 17, 18],\n",
              "       [19, 20, 21, 22, 24]])"
            ]
          },
          "metadata": {
            "tags": []
          },
          "execution_count": 1
        }
      ]
    },
    {
      "cell_type": "code",
      "metadata": {
        "id": "zqq93sh_b1ll",
        "colab_type": "code",
        "colab": {
          "base_uri": "https://localhost:8080/",
          "height": 34
        },
        "outputId": "c617a598-8c8e-485d-96a3-0e16ebd3ffcc"
      },
      "source": [
        "sum=0\n",
        "for i in range(0,len(array1)):\n",
        "    for j in range(0,len(array1[i])):\n",
        "        if (i==j):\n",
        "            sum+=array1[i][j]\n",
        "            \n",
        "print(sum)"
      ],
      "execution_count": null,
      "outputs": [
        {
          "output_type": "stream",
          "text": [
            "58\n"
          ],
          "name": "stdout"
        }
      ]
    },
    {
      "cell_type": "code",
      "metadata": {
        "id": "z4nY-K70cXnK",
        "colab_type": "code",
        "colab": {}
      },
      "source": [
        ""
      ],
      "execution_count": null,
      "outputs": []
    }
  ]
}